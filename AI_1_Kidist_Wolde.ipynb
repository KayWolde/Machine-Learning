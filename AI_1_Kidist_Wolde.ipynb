{
  "nbformat": 4,
  "nbformat_minor": 0,
  "metadata": {
    "colab": {
      "provenance": [],
      "mount_file_id": "1mnfThjjXjDiDoe6ebxSHLR6SlJv7NbIA",
      "authorship_tag": "ABX9TyOAxhVFOJ7WdcL7m4Z8ZfNP",
      "include_colab_link": true
    },
    "kernelspec": {
      "name": "python3",
      "display_name": "Python 3"
    },
    "language_info": {
      "name": "python"
    }
  },
  "cells": [
    {
      "cell_type": "markdown",
      "metadata": {
        "id": "view-in-github",
        "colab_type": "text"
      },
      "source": [
        "<a href=\"https://colab.research.google.com/github/KayWolde/Machine-Learning/blob/main/AI_1_Kidist_Wolde.ipynb\" target=\"_parent\"><img src=\"https://colab.research.google.com/assets/colab-badge.svg\" alt=\"Open In Colab\"/></a>"
      ]
    },
    {
      "cell_type": "code",
      "source": [
        "import pandas as pd\n",
        "from pandas import ExcelFile\n",
        "from pandas import ExcelWriter\n",
        "import numpy as np\n",
        "import keras\n",
        "from sklearn.preprocessing import StandardScaler\n",
        "from sklearn.model_selection import train_test_split\n",
        "from keras.utils import to_categorical\n",
        "#from keras.utils import to_categorical\n",
        "from keras.models import Sequential\n",
        "from keras.layers import Dense, Activation\n",
        "from tensorflow.keras.optimizers import SGD\n",
        "from sklearn import metrics\n",
        "#from sklearn.metrics import mean_squared_error\n",
        "from sklearn.metrics import classification_report, confusion_matrix\n",
        "import matplotlib.pyplot as plt"
      ],
      "metadata": {
        "id": "Ie440l6x4GCq"
      },
      "execution_count": 5,
      "outputs": []
    },
    {
      "cell_type": "code",
      "source": [
        "file_path = '/content/drive/MyDrive/Colab Notebooks/CellDNA (1).csv'\n",
        "df = pd.read_csv(file_path)\n",
        "df.head()"
      ],
      "metadata": {
        "id": "n_tM2wZc3VjF",
        "colab": {
          "base_uri": "https://localhost:8080/",
          "height": 206
        },
        "outputId": "fb5752c6-a32a-4b86-c7b8-916de39718c0"
      },
      "execution_count": 8,
      "outputs": [
        {
          "output_type": "execute_result",
          "data": {
            "text/plain": [
              "   222  31.18918919  40.34234234  35.57908668  8.883916969  0.968324558  \\\n",
              "0   73    29.493151   271.397260    15.517202     6.407490     0.910764   \n",
              "1  256    58.816406   289.941406    37.226013     9.863895     0.964256   \n",
              "2  126    71.023810   477.412698    13.112980    12.790672     0.220351   \n",
              "3  225    90.808889   541.946667    44.463110     7.858879     0.984256   \n",
              "4  233    91.407725   279.622318    40.039467     9.256891     0.972908   \n",
              "\n",
              "   -80.11367302  222.1  1  16.81247093  0.816176471  0.578125  78.591  0  \n",
              "0     76.042946     73  1     9.640876     0.858824  0.608333  39.217  0  \n",
              "1     85.324742    256  1    18.054067     0.752941  0.562637  89.111  0  \n",
              "2     63.523477    126  1    12.666025     0.881119  0.646154  43.832  0  \n",
              "3    -52.874983    225  1    16.925688     0.728155  0.252525  90.072  7  \n",
              "4     80.280623    233  1    17.223960     0.732704  0.524775  88.623  0  "
            ],
            "text/html": [
              "\n",
              "  <div id=\"df-dc9a04a8-de0d-4b03-ade8-36f9183669fc\" class=\"colab-df-container\">\n",
              "    <div>\n",
              "<style scoped>\n",
              "    .dataframe tbody tr th:only-of-type {\n",
              "        vertical-align: middle;\n",
              "    }\n",
              "\n",
              "    .dataframe tbody tr th {\n",
              "        vertical-align: top;\n",
              "    }\n",
              "\n",
              "    .dataframe thead th {\n",
              "        text-align: right;\n",
              "    }\n",
              "</style>\n",
              "<table border=\"1\" class=\"dataframe\">\n",
              "  <thead>\n",
              "    <tr style=\"text-align: right;\">\n",
              "      <th></th>\n",
              "      <th>222</th>\n",
              "      <th>31.18918919</th>\n",
              "      <th>40.34234234</th>\n",
              "      <th>35.57908668</th>\n",
              "      <th>8.883916969</th>\n",
              "      <th>0.968324558</th>\n",
              "      <th>-80.11367302</th>\n",
              "      <th>222.1</th>\n",
              "      <th>1</th>\n",
              "      <th>16.81247093</th>\n",
              "      <th>0.816176471</th>\n",
              "      <th>0.578125</th>\n",
              "      <th>78.591</th>\n",
              "      <th>0</th>\n",
              "    </tr>\n",
              "  </thead>\n",
              "  <tbody>\n",
              "    <tr>\n",
              "      <th>0</th>\n",
              "      <td>73</td>\n",
              "      <td>29.493151</td>\n",
              "      <td>271.397260</td>\n",
              "      <td>15.517202</td>\n",
              "      <td>6.407490</td>\n",
              "      <td>0.910764</td>\n",
              "      <td>76.042946</td>\n",
              "      <td>73</td>\n",
              "      <td>1</td>\n",
              "      <td>9.640876</td>\n",
              "      <td>0.858824</td>\n",
              "      <td>0.608333</td>\n",
              "      <td>39.217</td>\n",
              "      <td>0</td>\n",
              "    </tr>\n",
              "    <tr>\n",
              "      <th>1</th>\n",
              "      <td>256</td>\n",
              "      <td>58.816406</td>\n",
              "      <td>289.941406</td>\n",
              "      <td>37.226013</td>\n",
              "      <td>9.863895</td>\n",
              "      <td>0.964256</td>\n",
              "      <td>85.324742</td>\n",
              "      <td>256</td>\n",
              "      <td>1</td>\n",
              "      <td>18.054067</td>\n",
              "      <td>0.752941</td>\n",
              "      <td>0.562637</td>\n",
              "      <td>89.111</td>\n",
              "      <td>0</td>\n",
              "    </tr>\n",
              "    <tr>\n",
              "      <th>2</th>\n",
              "      <td>126</td>\n",
              "      <td>71.023810</td>\n",
              "      <td>477.412698</td>\n",
              "      <td>13.112980</td>\n",
              "      <td>12.790672</td>\n",
              "      <td>0.220351</td>\n",
              "      <td>63.523477</td>\n",
              "      <td>126</td>\n",
              "      <td>1</td>\n",
              "      <td>12.666025</td>\n",
              "      <td>0.881119</td>\n",
              "      <td>0.646154</td>\n",
              "      <td>43.832</td>\n",
              "      <td>0</td>\n",
              "    </tr>\n",
              "    <tr>\n",
              "      <th>3</th>\n",
              "      <td>225</td>\n",
              "      <td>90.808889</td>\n",
              "      <td>541.946667</td>\n",
              "      <td>44.463110</td>\n",
              "      <td>7.858879</td>\n",
              "      <td>0.984256</td>\n",
              "      <td>-52.874983</td>\n",
              "      <td>225</td>\n",
              "      <td>1</td>\n",
              "      <td>16.925688</td>\n",
              "      <td>0.728155</td>\n",
              "      <td>0.252525</td>\n",
              "      <td>90.072</td>\n",
              "      <td>7</td>\n",
              "    </tr>\n",
              "    <tr>\n",
              "      <th>4</th>\n",
              "      <td>233</td>\n",
              "      <td>91.407725</td>\n",
              "      <td>279.622318</td>\n",
              "      <td>40.039467</td>\n",
              "      <td>9.256891</td>\n",
              "      <td>0.972908</td>\n",
              "      <td>80.280623</td>\n",
              "      <td>233</td>\n",
              "      <td>1</td>\n",
              "      <td>17.223960</td>\n",
              "      <td>0.732704</td>\n",
              "      <td>0.524775</td>\n",
              "      <td>88.623</td>\n",
              "      <td>0</td>\n",
              "    </tr>\n",
              "  </tbody>\n",
              "</table>\n",
              "</div>\n",
              "    <div class=\"colab-df-buttons\">\n",
              "\n",
              "  <div class=\"colab-df-container\">\n",
              "    <button class=\"colab-df-convert\" onclick=\"convertToInteractive('df-dc9a04a8-de0d-4b03-ade8-36f9183669fc')\"\n",
              "            title=\"Convert this dataframe to an interactive table.\"\n",
              "            style=\"display:none;\">\n",
              "\n",
              "  <svg xmlns=\"http://www.w3.org/2000/svg\" height=\"24px\" viewBox=\"0 -960 960 960\">\n",
              "    <path d=\"M120-120v-720h720v720H120Zm60-500h600v-160H180v160Zm220 220h160v-160H400v160Zm0 220h160v-160H400v160ZM180-400h160v-160H180v160Zm440 0h160v-160H620v160ZM180-180h160v-160H180v160Zm440 0h160v-160H620v160Z\"/>\n",
              "  </svg>\n",
              "    </button>\n",
              "\n",
              "  <style>\n",
              "    .colab-df-container {\n",
              "      display:flex;\n",
              "      gap: 12px;\n",
              "    }\n",
              "\n",
              "    .colab-df-convert {\n",
              "      background-color: #E8F0FE;\n",
              "      border: none;\n",
              "      border-radius: 50%;\n",
              "      cursor: pointer;\n",
              "      display: none;\n",
              "      fill: #1967D2;\n",
              "      height: 32px;\n",
              "      padding: 0 0 0 0;\n",
              "      width: 32px;\n",
              "    }\n",
              "\n",
              "    .colab-df-convert:hover {\n",
              "      background-color: #E2EBFA;\n",
              "      box-shadow: 0px 1px 2px rgba(60, 64, 67, 0.3), 0px 1px 3px 1px rgba(60, 64, 67, 0.15);\n",
              "      fill: #174EA6;\n",
              "    }\n",
              "\n",
              "    .colab-df-buttons div {\n",
              "      margin-bottom: 4px;\n",
              "    }\n",
              "\n",
              "    [theme=dark] .colab-df-convert {\n",
              "      background-color: #3B4455;\n",
              "      fill: #D2E3FC;\n",
              "    }\n",
              "\n",
              "    [theme=dark] .colab-df-convert:hover {\n",
              "      background-color: #434B5C;\n",
              "      box-shadow: 0px 1px 3px 1px rgba(0, 0, 0, 0.15);\n",
              "      filter: drop-shadow(0px 1px 2px rgba(0, 0, 0, 0.3));\n",
              "      fill: #FFFFFF;\n",
              "    }\n",
              "  </style>\n",
              "\n",
              "    <script>\n",
              "      const buttonEl =\n",
              "        document.querySelector('#df-dc9a04a8-de0d-4b03-ade8-36f9183669fc button.colab-df-convert');\n",
              "      buttonEl.style.display =\n",
              "        google.colab.kernel.accessAllowed ? 'block' : 'none';\n",
              "\n",
              "      async function convertToInteractive(key) {\n",
              "        const element = document.querySelector('#df-dc9a04a8-de0d-4b03-ade8-36f9183669fc');\n",
              "        const dataTable =\n",
              "          await google.colab.kernel.invokeFunction('convertToInteractive',\n",
              "                                                    [key], {});\n",
              "        if (!dataTable) return;\n",
              "\n",
              "        const docLinkHtml = 'Like what you see? Visit the ' +\n",
              "          '<a target=\"_blank\" href=https://colab.research.google.com/notebooks/data_table.ipynb>data table notebook</a>'\n",
              "          + ' to learn more about interactive tables.';\n",
              "        element.innerHTML = '';\n",
              "        dataTable['output_type'] = 'display_data';\n",
              "        await google.colab.output.renderOutput(dataTable, element);\n",
              "        const docLink = document.createElement('div');\n",
              "        docLink.innerHTML = docLinkHtml;\n",
              "        element.appendChild(docLink);\n",
              "      }\n",
              "    </script>\n",
              "  </div>\n",
              "\n",
              "\n",
              "<div id=\"df-bb491fa6-d81d-4aee-8e12-7b00a50768ea\">\n",
              "  <button class=\"colab-df-quickchart\" onclick=\"quickchart('df-bb491fa6-d81d-4aee-8e12-7b00a50768ea')\"\n",
              "            title=\"Suggest charts\"\n",
              "            style=\"display:none;\">\n",
              "\n",
              "<svg xmlns=\"http://www.w3.org/2000/svg\" height=\"24px\"viewBox=\"0 0 24 24\"\n",
              "     width=\"24px\">\n",
              "    <g>\n",
              "        <path d=\"M19 3H5c-1.1 0-2 .9-2 2v14c0 1.1.9 2 2 2h14c1.1 0 2-.9 2-2V5c0-1.1-.9-2-2-2zM9 17H7v-7h2v7zm4 0h-2V7h2v10zm4 0h-2v-4h2v4z\"/>\n",
              "    </g>\n",
              "</svg>\n",
              "  </button>\n",
              "\n",
              "<style>\n",
              "  .colab-df-quickchart {\n",
              "      --bg-color: #E8F0FE;\n",
              "      --fill-color: #1967D2;\n",
              "      --hover-bg-color: #E2EBFA;\n",
              "      --hover-fill-color: #174EA6;\n",
              "      --disabled-fill-color: #AAA;\n",
              "      --disabled-bg-color: #DDD;\n",
              "  }\n",
              "\n",
              "  [theme=dark] .colab-df-quickchart {\n",
              "      --bg-color: #3B4455;\n",
              "      --fill-color: #D2E3FC;\n",
              "      --hover-bg-color: #434B5C;\n",
              "      --hover-fill-color: #FFFFFF;\n",
              "      --disabled-bg-color: #3B4455;\n",
              "      --disabled-fill-color: #666;\n",
              "  }\n",
              "\n",
              "  .colab-df-quickchart {\n",
              "    background-color: var(--bg-color);\n",
              "    border: none;\n",
              "    border-radius: 50%;\n",
              "    cursor: pointer;\n",
              "    display: none;\n",
              "    fill: var(--fill-color);\n",
              "    height: 32px;\n",
              "    padding: 0;\n",
              "    width: 32px;\n",
              "  }\n",
              "\n",
              "  .colab-df-quickchart:hover {\n",
              "    background-color: var(--hover-bg-color);\n",
              "    box-shadow: 0 1px 2px rgba(60, 64, 67, 0.3), 0 1px 3px 1px rgba(60, 64, 67, 0.15);\n",
              "    fill: var(--button-hover-fill-color);\n",
              "  }\n",
              "\n",
              "  .colab-df-quickchart-complete:disabled,\n",
              "  .colab-df-quickchart-complete:disabled:hover {\n",
              "    background-color: var(--disabled-bg-color);\n",
              "    fill: var(--disabled-fill-color);\n",
              "    box-shadow: none;\n",
              "  }\n",
              "\n",
              "  .colab-df-spinner {\n",
              "    border: 2px solid var(--fill-color);\n",
              "    border-color: transparent;\n",
              "    border-bottom-color: var(--fill-color);\n",
              "    animation:\n",
              "      spin 1s steps(1) infinite;\n",
              "  }\n",
              "\n",
              "  @keyframes spin {\n",
              "    0% {\n",
              "      border-color: transparent;\n",
              "      border-bottom-color: var(--fill-color);\n",
              "      border-left-color: var(--fill-color);\n",
              "    }\n",
              "    20% {\n",
              "      border-color: transparent;\n",
              "      border-left-color: var(--fill-color);\n",
              "      border-top-color: var(--fill-color);\n",
              "    }\n",
              "    30% {\n",
              "      border-color: transparent;\n",
              "      border-left-color: var(--fill-color);\n",
              "      border-top-color: var(--fill-color);\n",
              "      border-right-color: var(--fill-color);\n",
              "    }\n",
              "    40% {\n",
              "      border-color: transparent;\n",
              "      border-right-color: var(--fill-color);\n",
              "      border-top-color: var(--fill-color);\n",
              "    }\n",
              "    60% {\n",
              "      border-color: transparent;\n",
              "      border-right-color: var(--fill-color);\n",
              "    }\n",
              "    80% {\n",
              "      border-color: transparent;\n",
              "      border-right-color: var(--fill-color);\n",
              "      border-bottom-color: var(--fill-color);\n",
              "    }\n",
              "    90% {\n",
              "      border-color: transparent;\n",
              "      border-bottom-color: var(--fill-color);\n",
              "    }\n",
              "  }\n",
              "</style>\n",
              "\n",
              "  <script>\n",
              "    async function quickchart(key) {\n",
              "      const quickchartButtonEl =\n",
              "        document.querySelector('#' + key + ' button');\n",
              "      quickchartButtonEl.disabled = true;  // To prevent multiple clicks.\n",
              "      quickchartButtonEl.classList.add('colab-df-spinner');\n",
              "      try {\n",
              "        const charts = await google.colab.kernel.invokeFunction(\n",
              "            'suggestCharts', [key], {});\n",
              "      } catch (error) {\n",
              "        console.error('Error during call to suggestCharts:', error);\n",
              "      }\n",
              "      quickchartButtonEl.classList.remove('colab-df-spinner');\n",
              "      quickchartButtonEl.classList.add('colab-df-quickchart-complete');\n",
              "    }\n",
              "    (() => {\n",
              "      let quickchartButtonEl =\n",
              "        document.querySelector('#df-bb491fa6-d81d-4aee-8e12-7b00a50768ea button');\n",
              "      quickchartButtonEl.style.display =\n",
              "        google.colab.kernel.accessAllowed ? 'block' : 'none';\n",
              "    })();\n",
              "  </script>\n",
              "</div>\n",
              "\n",
              "    </div>\n",
              "  </div>\n"
            ],
            "application/vnd.google.colaboratory.intrinsic+json": {
              "type": "dataframe",
              "variable_name": "df",
              "summary": "{\n  \"name\": \"df\",\n  \"rows\": 1216,\n  \"fields\": [\n    {\n      \"column\": \"222\",\n      \"properties\": {\n        \"dtype\": \"number\",\n        \"std\": 135,\n        \"min\": 70,\n        \"max\": 1089,\n        \"num_unique_values\": 363,\n        \"samples\": [\n          274,\n          156,\n          250\n        ],\n        \"semantic_type\": \"\",\n        \"description\": \"\"\n      }\n    },\n    {\n      \"column\": \"31.18918919\",\n      \"properties\": {\n        \"dtype\": \"number\",\n        \"std\": 215.36447815899027,\n        \"min\": 28.17647059,\n        \"max\": 773.9196429,\n        \"num_unique_values\": 1185,\n        \"samples\": [\n          70.39130435,\n          675.1967213,\n          748.8963415\n        ],\n        \"semantic_type\": \"\",\n        \"description\": \"\"\n      }\n    },\n    {\n      \"column\": \"40.34234234\",\n      \"properties\": {\n        \"dtype\": \"number\",\n        \"std\": 141.5660358275349,\n        \"min\": 27.87012987,\n        \"max\": 575.3402062,\n        \"num_unique_values\": 1185,\n        \"samples\": [\n          43.31304348,\n          151.4699454,\n          47.66463415\n        ],\n        \"semantic_type\": \"\",\n        \"description\": \"\"\n      }\n    },\n    {\n      \"column\": \"35.57908668\",\n      \"properties\": {\n        \"dtype\": \"number\",\n        \"std\": 19.15992005220297,\n        \"min\": 10.28243735,\n        \"max\": 155.3301226,\n        \"num_unique_values\": 1185,\n        \"samples\": [\n          14.14656239,\n          32.2636698,\n          63.13899122\n        ],\n        \"semantic_type\": \"\",\n        \"description\": \"\"\n      }\n    },\n    {\n      \"column\": \"8.883916969\",\n      \"properties\": {\n        \"dtype\": \"number\",\n        \"std\": 3.636437528496022,\n        \"min\": 3.08096257,\n        \"max\": 43.4871109,\n        \"num_unique_values\": 1185,\n        \"samples\": [\n          10.7647627,\n          8.707518427,\n          9.101974301\n        ],\n        \"semantic_type\": \"\",\n        \"description\": \"\"\n      }\n    },\n    {\n      \"column\": \"0.968324558\",\n      \"properties\": {\n        \"dtype\": \"number\",\n        \"std\": 0.11097413971136985,\n        \"min\": 0.218073549,\n        \"max\": 0.998458722,\n        \"num_unique_values\": 1185,\n        \"samples\": [\n          0.648815827,\n          0.962892233,\n          0.989554721\n        ],\n        \"semantic_type\": \"\",\n        \"description\": \"\"\n      }\n    },\n    {\n      \"column\": \"-80.11367302\",\n      \"properties\": {\n        \"dtype\": \"number\",\n        \"std\": 50.557787277186925,\n        \"min\": -89.53133504,\n        \"max\": 89.88112006,\n        \"num_unique_values\": 1185,\n        \"samples\": [\n          55.11295798,\n          50.5804007,\n          57.91949369\n        ],\n        \"semantic_type\": \"\",\n        \"description\": \"\"\n      }\n    },\n    {\n      \"column\": \"222.1\",\n      \"properties\": {\n        \"dtype\": \"number\",\n        \"std\": 142,\n        \"min\": 70,\n        \"max\": 1159,\n        \"num_unique_values\": 366,\n        \"samples\": [\n          274,\n          314,\n          262\n        ],\n        \"semantic_type\": \"\",\n        \"description\": \"\"\n      }\n    },\n    {\n      \"column\": \"1\",\n      \"properties\": {\n        \"dtype\": \"number\",\n        \"std\": 2,\n        \"min\": -26,\n        \"max\": 1,\n        \"num_unique_values\": 20,\n        \"samples\": [\n          1,\n          -18,\n          -26\n        ],\n        \"semantic_type\": \"\",\n        \"description\": \"\"\n      }\n    },\n    {\n      \"column\": \"16.81247093\",\n      \"properties\": {\n        \"dtype\": \"number\",\n        \"std\": 4.625625435349275,\n        \"min\": 9.440697439,\n        \"max\": 37.23651251,\n        \"num_unique_values\": 363,\n        \"samples\": [\n          18.6779987,\n          14.09345128,\n          17.84124116\n        ],\n        \"semantic_type\": \"\",\n        \"description\": \"\"\n      }\n    },\n    {\n      \"column\": \"0.816176471\",\n      \"properties\": {\n        \"dtype\": \"number\",\n        \"std\": 0.11784481795257014,\n        \"min\": 0.261048586,\n        \"max\": 1.0,\n        \"num_unique_values\": 1066,\n        \"samples\": [\n          0.588709677,\n          0.690821256,\n          0.813291139\n        ],\n        \"semantic_type\": \"\",\n        \"description\": \"\"\n      }\n    },\n    {\n      \"column\": \"0.578125\",\n      \"properties\": {\n        \"dtype\": \"number\",\n        \"std\": 0.1583786261360857,\n        \"min\": 0.114481762,\n        \"max\": 0.905882353,\n        \"num_unique_values\": 1056,\n        \"samples\": [\n          0.264375877,\n          0.180533752,\n          0.543859649\n        ],\n        \"semantic_type\": \"\",\n        \"description\": \"\"\n      }\n    },\n    {\n      \"column\": \"78.591\",\n      \"properties\": {\n        \"dtype\": \"number\",\n        \"std\": 48.8186248809497,\n        \"min\": 28.193,\n        \"max\": 493.749,\n        \"num_unique_values\": 1104,\n        \"samples\": [\n          72.984,\n          45.817,\n          32.022\n        ],\n        \"semantic_type\": \"\",\n        \"description\": \"\"\n      }\n    },\n    {\n      \"column\": \"0\",\n      \"properties\": {\n        \"dtype\": \"number\",\n        \"std\": 2,\n        \"min\": 0,\n        \"max\": 10,\n        \"num_unique_values\": 11,\n        \"samples\": [\n          8,\n          0,\n          1\n        ],\n        \"semantic_type\": \"\",\n        \"description\": \"\"\n      }\n    }\n  ]\n}"
            }
          },
          "metadata": {},
          "execution_count": 8
        }
      ]
    },
    {
      "cell_type": "code",
      "source": [
        "X, Raw_Y = np.split(df, [-1], axis=1)    # split data into X and Y\n",
        "Y = np.where(Raw_Y > 0, 1, 0)\n",
        "\n",
        "print(X.shape, Y.shape)\n",
        "print(X.ndim, Y.ndim)"
      ],
      "metadata": {
        "colab": {
          "base_uri": "https://localhost:8080/"
        },
        "id": "MOI3Ir_j4Shh",
        "outputId": "c8a7d7d2-40cb-4771-a3af-a13d879a282e"
      },
      "execution_count": 9,
      "outputs": [
        {
          "output_type": "stream",
          "name": "stdout",
          "text": [
            "(1216, 13) (1216, 1)\n",
            "2 2\n"
          ]
        },
        {
          "output_type": "stream",
          "name": "stderr",
          "text": [
            "/usr/local/lib/python3.10/dist-packages/numpy/core/fromnumeric.py:59: FutureWarning: 'DataFrame.swapaxes' is deprecated and will be removed in a future version. Please use 'DataFrame.transpose' instead.\n",
            "  return bound(*args, **kwds)\n"
          ]
        }
      ]
    },
    {
      "cell_type": "code",
      "source": [
        "# Initialize the StandardScaler\n",
        "scaler = StandardScaler()\n",
        "# Fit and transform the features\n",
        "X = scaler.fit_transform(X)"
      ],
      "metadata": {
        "id": "uUWGsPk-4Voh"
      },
      "execution_count": 11,
      "outputs": []
    },
    {
      "cell_type": "code",
      "source": [
        "# Split the data into train and test sets\n",
        "X_train, X_test, Y_train, Y_test = train_test_split(X, Y, test_size=0.2, random_state=32)"
      ],
      "metadata": {
        "id": "2KDh0jNM4ZaA"
      },
      "execution_count": 12,
      "outputs": []
    },
    {
      "cell_type": "code",
      "source": [
        "CAT_Y_train = to_categorical(Y_train,2)\n",
        "CAT_Y_test = to_categorical(Y_test,2)\n",
        "\n",
        "print(CAT_Y_train.ndim, CAT_Y_train.ndim)\n",
        "print(CAT_Y_test.ndim, CAT_Y_test.ndim)"
      ],
      "metadata": {
        "colab": {
          "base_uri": "https://localhost:8080/"
        },
        "id": "-YJmRH304cjo",
        "outputId": "5e5cfbc0-8197-48db-e515-566a475e7dbf"
      },
      "execution_count": 13,
      "outputs": [
        {
          "output_type": "stream",
          "name": "stdout",
          "text": [
            "2 2\n",
            "2 2\n"
          ]
        }
      ]
    },
    {
      "cell_type": "code",
      "source": [
        "model = Sequential()\n",
        "\n",
        "model.add(Dense(9, input_dim=13, activation='relu'))\n",
        "model.add(Dense(7, activation='relu'))\n",
        "model.add(Dense(5, activation='relu'))\n",
        "model.add(Dense(2,activation='softmax'))\n",
        "\n",
        "print(model.summary())\n"
      ],
      "metadata": {
        "colab": {
          "base_uri": "https://localhost:8080/",
          "height": 329
        },
        "id": "r6O1CV-Y4fAm",
        "outputId": "ea1767d0-eff7-4a2b-a6bf-778f532b72c7"
      },
      "execution_count": 14,
      "outputs": [
        {
          "output_type": "stream",
          "name": "stderr",
          "text": [
            "/usr/local/lib/python3.10/dist-packages/keras/src/layers/core/dense.py:87: UserWarning: Do not pass an `input_shape`/`input_dim` argument to a layer. When using Sequential models, prefer using an `Input(shape)` object as the first layer in the model instead.\n",
            "  super().__init__(activity_regularizer=activity_regularizer, **kwargs)\n"
          ]
        },
        {
          "output_type": "display_data",
          "data": {
            "text/plain": [
              "\u001b[1mModel: \"sequential\"\u001b[0m\n"
            ],
            "text/html": [
              "<pre style=\"white-space:pre;overflow-x:auto;line-height:normal;font-family:Menlo,'DejaVu Sans Mono',consolas,'Courier New',monospace\"><span style=\"font-weight: bold\">Model: \"sequential\"</span>\n",
              "</pre>\n"
            ]
          },
          "metadata": {}
        },
        {
          "output_type": "display_data",
          "data": {
            "text/plain": [
              "┏━━━━━━━━━━━━━━━━━━━━━━━━━━━━━━━━━━━━━━┳━━━━━━━━━━━━━━━━━━━━━━━━━━━━━┳━━━━━━━━━━━━━━━━━┓\n",
              "┃\u001b[1m \u001b[0m\u001b[1mLayer (type)                        \u001b[0m\u001b[1m \u001b[0m┃\u001b[1m \u001b[0m\u001b[1mOutput Shape               \u001b[0m\u001b[1m \u001b[0m┃\u001b[1m \u001b[0m\u001b[1m        Param #\u001b[0m\u001b[1m \u001b[0m┃\n",
              "┡━━━━━━━━━━━━━━━━━━━━━━━━━━━━━━━━━━━━━━╇━━━━━━━━━━━━━━━━━━━━━━━━━━━━━╇━━━━━━━━━━━━━━━━━┩\n",
              "│ dense (\u001b[38;5;33mDense\u001b[0m)                        │ (\u001b[38;5;45mNone\u001b[0m, \u001b[38;5;34m9\u001b[0m)                   │             \u001b[38;5;34m126\u001b[0m │\n",
              "├──────────────────────────────────────┼─────────────────────────────┼─────────────────┤\n",
              "│ dense_1 (\u001b[38;5;33mDense\u001b[0m)                      │ (\u001b[38;5;45mNone\u001b[0m, \u001b[38;5;34m7\u001b[0m)                   │              \u001b[38;5;34m70\u001b[0m │\n",
              "├──────────────────────────────────────┼─────────────────────────────┼─────────────────┤\n",
              "│ dense_2 (\u001b[38;5;33mDense\u001b[0m)                      │ (\u001b[38;5;45mNone\u001b[0m, \u001b[38;5;34m5\u001b[0m)                   │              \u001b[38;5;34m40\u001b[0m │\n",
              "├──────────────────────────────────────┼─────────────────────────────┼─────────────────┤\n",
              "│ dense_3 (\u001b[38;5;33mDense\u001b[0m)                      │ (\u001b[38;5;45mNone\u001b[0m, \u001b[38;5;34m2\u001b[0m)                   │              \u001b[38;5;34m12\u001b[0m │\n",
              "└──────────────────────────────────────┴─────────────────────────────┴─────────────────┘\n"
            ],
            "text/html": [
              "<pre style=\"white-space:pre;overflow-x:auto;line-height:normal;font-family:Menlo,'DejaVu Sans Mono',consolas,'Courier New',monospace\">┏━━━━━━━━━━━━━━━━━━━━━━━━━━━━━━━━━━━━━━┳━━━━━━━━━━━━━━━━━━━━━━━━━━━━━┳━━━━━━━━━━━━━━━━━┓\n",
              "┃<span style=\"font-weight: bold\"> Layer (type)                         </span>┃<span style=\"font-weight: bold\"> Output Shape                </span>┃<span style=\"font-weight: bold\">         Param # </span>┃\n",
              "┡━━━━━━━━━━━━━━━━━━━━━━━━━━━━━━━━━━━━━━╇━━━━━━━━━━━━━━━━━━━━━━━━━━━━━╇━━━━━━━━━━━━━━━━━┩\n",
              "│ dense (<span style=\"color: #0087ff; text-decoration-color: #0087ff\">Dense</span>)                        │ (<span style=\"color: #00d7ff; text-decoration-color: #00d7ff\">None</span>, <span style=\"color: #00af00; text-decoration-color: #00af00\">9</span>)                   │             <span style=\"color: #00af00; text-decoration-color: #00af00\">126</span> │\n",
              "├──────────────────────────────────────┼─────────────────────────────┼─────────────────┤\n",
              "│ dense_1 (<span style=\"color: #0087ff; text-decoration-color: #0087ff\">Dense</span>)                      │ (<span style=\"color: #00d7ff; text-decoration-color: #00d7ff\">None</span>, <span style=\"color: #00af00; text-decoration-color: #00af00\">7</span>)                   │              <span style=\"color: #00af00; text-decoration-color: #00af00\">70</span> │\n",
              "├──────────────────────────────────────┼─────────────────────────────┼─────────────────┤\n",
              "│ dense_2 (<span style=\"color: #0087ff; text-decoration-color: #0087ff\">Dense</span>)                      │ (<span style=\"color: #00d7ff; text-decoration-color: #00d7ff\">None</span>, <span style=\"color: #00af00; text-decoration-color: #00af00\">5</span>)                   │              <span style=\"color: #00af00; text-decoration-color: #00af00\">40</span> │\n",
              "├──────────────────────────────────────┼─────────────────────────────┼─────────────────┤\n",
              "│ dense_3 (<span style=\"color: #0087ff; text-decoration-color: #0087ff\">Dense</span>)                      │ (<span style=\"color: #00d7ff; text-decoration-color: #00d7ff\">None</span>, <span style=\"color: #00af00; text-decoration-color: #00af00\">2</span>)                   │              <span style=\"color: #00af00; text-decoration-color: #00af00\">12</span> │\n",
              "└──────────────────────────────────────┴─────────────────────────────┴─────────────────┘\n",
              "</pre>\n"
            ]
          },
          "metadata": {}
        },
        {
          "output_type": "display_data",
          "data": {
            "text/plain": [
              "\u001b[1m Total params: \u001b[0m\u001b[38;5;34m248\u001b[0m (992.00 B)\n"
            ],
            "text/html": [
              "<pre style=\"white-space:pre;overflow-x:auto;line-height:normal;font-family:Menlo,'DejaVu Sans Mono',consolas,'Courier New',monospace\"><span style=\"font-weight: bold\"> Total params: </span><span style=\"color: #00af00; text-decoration-color: #00af00\">248</span> (992.00 B)\n",
              "</pre>\n"
            ]
          },
          "metadata": {}
        },
        {
          "output_type": "display_data",
          "data": {
            "text/plain": [
              "\u001b[1m Trainable params: \u001b[0m\u001b[38;5;34m248\u001b[0m (992.00 B)\n"
            ],
            "text/html": [
              "<pre style=\"white-space:pre;overflow-x:auto;line-height:normal;font-family:Menlo,'DejaVu Sans Mono',consolas,'Courier New',monospace\"><span style=\"font-weight: bold\"> Trainable params: </span><span style=\"color: #00af00; text-decoration-color: #00af00\">248</span> (992.00 B)\n",
              "</pre>\n"
            ]
          },
          "metadata": {}
        },
        {
          "output_type": "display_data",
          "data": {
            "text/plain": [
              "\u001b[1m Non-trainable params: \u001b[0m\u001b[38;5;34m0\u001b[0m (0.00 B)\n"
            ],
            "text/html": [
              "<pre style=\"white-space:pre;overflow-x:auto;line-height:normal;font-family:Menlo,'DejaVu Sans Mono',consolas,'Courier New',monospace\"><span style=\"font-weight: bold\"> Non-trainable params: </span><span style=\"color: #00af00; text-decoration-color: #00af00\">0</span> (0.00 B)\n",
              "</pre>\n"
            ]
          },
          "metadata": {}
        },
        {
          "output_type": "stream",
          "name": "stdout",
          "text": [
            "None\n"
          ]
        }
      ]
    },
    {
      "cell_type": "code",
      "source": [
        "from tensorflow.keras.optimizers import SGD\n",
        "sgdm = SGD(momentum = 0.0)  # 0.9 or 0.0\n",
        "Compiled = model.compile(loss='binary_crossentropy', optimizer='Adam', metrics=['accuracy'] )\n",
        "# Fit the model\n",
        "history = model.fit(X_train, CAT_Y_train, epochs=20,batch_size=20,verbose=1, validation_data=(X_test, CAT_Y_test))"
      ],
      "metadata": {
        "colab": {
          "base_uri": "https://localhost:8080/"
        },
        "id": "e1PlIZr54jEe",
        "outputId": "bd1da920-b31a-4596-d1f5-10d244b33753"
      },
      "execution_count": 15,
      "outputs": [
        {
          "output_type": "stream",
          "name": "stdout",
          "text": [
            "Epoch 1/20\n",
            "\u001b[1m49/49\u001b[0m \u001b[32m━━━━━━━━━━━━━━━━━━━━\u001b[0m\u001b[37m\u001b[0m \u001b[1m2s\u001b[0m 6ms/step - accuracy: 0.8373 - loss: 0.6577 - val_accuracy: 0.8443 - val_loss: 0.6050\n",
            "Epoch 2/20\n",
            "\u001b[1m49/49\u001b[0m \u001b[32m━━━━━━━━━━━━━━━━━━━━\u001b[0m\u001b[37m\u001b[0m \u001b[1m0s\u001b[0m 3ms/step - accuracy: 0.8208 - loss: 0.5830 - val_accuracy: 0.8443 - val_loss: 0.4894\n",
            "Epoch 3/20\n",
            "\u001b[1m49/49\u001b[0m \u001b[32m━━━━━━━━━━━━━━━━━━━━\u001b[0m\u001b[37m\u001b[0m \u001b[1m0s\u001b[0m 2ms/step - accuracy: 0.8472 - loss: 0.4469 - val_accuracy: 0.8443 - val_loss: 0.3725\n",
            "Epoch 4/20\n",
            "\u001b[1m49/49\u001b[0m \u001b[32m━━━━━━━━━━━━━━━━━━━━\u001b[0m\u001b[37m\u001b[0m \u001b[1m0s\u001b[0m 2ms/step - accuracy: 0.8251 - loss: 0.3507 - val_accuracy: 0.8443 - val_loss: 0.3280\n",
            "Epoch 5/20\n",
            "\u001b[1m49/49\u001b[0m \u001b[32m━━━━━━━━━━━━━━━━━━━━\u001b[0m\u001b[37m\u001b[0m \u001b[1m0s\u001b[0m 3ms/step - accuracy: 0.8358 - loss: 0.2880 - val_accuracy: 0.8443 - val_loss: 0.3145\n",
            "Epoch 6/20\n",
            "\u001b[1m49/49\u001b[0m \u001b[32m━━━━━━━━━━━━━━━━━━━━\u001b[0m\u001b[37m\u001b[0m \u001b[1m0s\u001b[0m 3ms/step - accuracy: 0.8343 - loss: 0.2591 - val_accuracy: 0.8443 - val_loss: 0.3053\n",
            "Epoch 7/20\n",
            "\u001b[1m49/49\u001b[0m \u001b[32m━━━━━━━━━━━━━━━━━━━━\u001b[0m\u001b[37m\u001b[0m \u001b[1m0s\u001b[0m 2ms/step - accuracy: 0.8247 - loss: 0.2636 - val_accuracy: 0.8443 - val_loss: 0.2987\n",
            "Epoch 8/20\n",
            "\u001b[1m49/49\u001b[0m \u001b[32m━━━━━━━━━━━━━━━━━━━━\u001b[0m\u001b[37m\u001b[0m \u001b[1m0s\u001b[0m 3ms/step - accuracy: 0.8343 - loss: 0.2559 - val_accuracy: 0.8443 - val_loss: 0.2916\n",
            "Epoch 9/20\n",
            "\u001b[1m49/49\u001b[0m \u001b[32m━━━━━━━━━━━━━━━━━━━━\u001b[0m\u001b[37m\u001b[0m \u001b[1m0s\u001b[0m 3ms/step - accuracy: 0.8316 - loss: 0.2313 - val_accuracy: 0.8443 - val_loss: 0.2881\n",
            "Epoch 10/20\n",
            "\u001b[1m49/49\u001b[0m \u001b[32m━━━━━━━━━━━━━━━━━━━━\u001b[0m\u001b[37m\u001b[0m \u001b[1m0s\u001b[0m 4ms/step - accuracy: 0.8436 - loss: 0.2147 - val_accuracy: 0.8443 - val_loss: 0.2811\n",
            "Epoch 11/20\n",
            "\u001b[1m49/49\u001b[0m \u001b[32m━━━━━━━━━━━━━━━━━━━━\u001b[0m\u001b[37m\u001b[0m \u001b[1m0s\u001b[0m 3ms/step - accuracy: 0.8105 - loss: 0.2411 - val_accuracy: 0.8443 - val_loss: 0.2760\n",
            "Epoch 12/20\n",
            "\u001b[1m49/49\u001b[0m \u001b[32m━━━━━━━━━━━━━━━━━━━━\u001b[0m\u001b[37m\u001b[0m \u001b[1m0s\u001b[0m 3ms/step - accuracy: 0.8165 - loss: 0.2469 - val_accuracy: 0.8443 - val_loss: 0.2733\n",
            "Epoch 13/20\n",
            "\u001b[1m49/49\u001b[0m \u001b[32m━━━━━━━━━━━━━━━━━━━━\u001b[0m\u001b[37m\u001b[0m \u001b[1m0s\u001b[0m 2ms/step - accuracy: 0.8441 - loss: 0.1973 - val_accuracy: 0.8443 - val_loss: 0.2707\n",
            "Epoch 14/20\n",
            "\u001b[1m49/49\u001b[0m \u001b[32m━━━━━━━━━━━━━━━━━━━━\u001b[0m\u001b[37m\u001b[0m \u001b[1m0s\u001b[0m 2ms/step - accuracy: 0.8644 - loss: 0.2112 - val_accuracy: 0.9057 - val_loss: 0.2676\n",
            "Epoch 15/20\n",
            "\u001b[1m49/49\u001b[0m \u001b[32m━━━━━━━━━━━━━━━━━━━━\u001b[0m\u001b[37m\u001b[0m \u001b[1m0s\u001b[0m 3ms/step - accuracy: 0.9033 - loss: 0.1895 - val_accuracy: 0.9016 - val_loss: 0.2647\n",
            "Epoch 16/20\n",
            "\u001b[1m49/49\u001b[0m \u001b[32m━━━━━━━━━━━━━━━━━━━━\u001b[0m\u001b[37m\u001b[0m \u001b[1m0s\u001b[0m 3ms/step - accuracy: 0.9209 - loss: 0.1968 - val_accuracy: 0.8975 - val_loss: 0.2632\n",
            "Epoch 17/20\n",
            "\u001b[1m49/49\u001b[0m \u001b[32m━━━━━━━━━━━━━━━━━━━━\u001b[0m\u001b[37m\u001b[0m \u001b[1m0s\u001b[0m 3ms/step - accuracy: 0.9172 - loss: 0.2116 - val_accuracy: 0.9057 - val_loss: 0.2596\n",
            "Epoch 18/20\n",
            "\u001b[1m49/49\u001b[0m \u001b[32m━━━━━━━━━━━━━━━━━━━━\u001b[0m\u001b[37m\u001b[0m \u001b[1m0s\u001b[0m 3ms/step - accuracy: 0.8973 - loss: 0.2163 - val_accuracy: 0.9057 - val_loss: 0.2572\n",
            "Epoch 19/20\n",
            "\u001b[1m49/49\u001b[0m \u001b[32m━━━━━━━━━━━━━━━━━━━━\u001b[0m\u001b[37m\u001b[0m \u001b[1m0s\u001b[0m 3ms/step - accuracy: 0.9147 - loss: 0.2050 - val_accuracy: 0.9098 - val_loss: 0.2543\n",
            "Epoch 20/20\n",
            "\u001b[1m49/49\u001b[0m \u001b[32m━━━━━━━━━━━━━━━━━━━━\u001b[0m\u001b[37m\u001b[0m \u001b[1m1s\u001b[0m 8ms/step - accuracy: 0.9180 - loss: 0.1951 - val_accuracy: 0.9139 - val_loss: 0.2526\n"
          ]
        }
      ]
    },
    {
      "cell_type": "code",
      "source": [
        "Y_score_train = model.predict(X_train, verbose=0)\n",
        "Y_hat_train = np.argmax(Y_score_train, axis=-1)\n",
        "print(\"Confusion matrix (Training Data): \\n \\n\", confusion_matrix(Y_train, Y_hat_train))\n",
        "\n",
        "\n",
        "Y_score_test = model.predict(X_test, verbose=0)\n",
        "Y_hat_test = np.argmax(Y_score_test, axis=-1)   # or... Y_hat_test = (Y_score_test > 0.5)\n",
        "print(\"Confusion matrix (Testing Data): \\n \\n\", confusion_matrix(Y_test, Y_hat_test))"
      ],
      "metadata": {
        "colab": {
          "base_uri": "https://localhost:8080/"
        },
        "id": "zFx-I3sa4mpP",
        "outputId": "81b77a0b-fabf-40bd-e125-f3cb6160f0d3"
      },
      "execution_count": 16,
      "outputs": [
        {
          "output_type": "stream",
          "name": "stdout",
          "text": [
            "Confusion matrix (Training Data): \n",
            " \n",
            " [[779  31]\n",
            " [ 44 118]]\n",
            "Confusion matrix (Testing Data): \n",
            " \n",
            " [[198   8]\n",
            " [ 13  25]]\n"
          ]
        }
      ]
    },
    {
      "cell_type": "code",
      "source": [
        "print(Y_score_test)"
      ],
      "metadata": {
        "colab": {
          "base_uri": "https://localhost:8080/"
        },
        "id": "qntqOhkh4mqt",
        "outputId": "1853f370-8acd-46c2-cce6-9a0ea4833a5a"
      },
      "execution_count": 17,
      "outputs": [
        {
          "output_type": "stream",
          "name": "stdout",
          "text": [
            "[[9.99999106e-01 7.81225708e-07]\n",
            " [4.37962949e-01 5.62036932e-01]\n",
            " [9.59805548e-01 4.01944891e-02]\n",
            " [9.73356128e-01 2.66436972e-02]\n",
            " [9.96626437e-01 3.37348296e-03]\n",
            " [9.99999702e-01 1.85273862e-07]\n",
            " [9.99999940e-01 4.74201841e-12]\n",
            " [8.73233914e-01 1.26766145e-01]\n",
            " [9.99891937e-01 1.07947184e-04]\n",
            " [9.99999940e-01 3.26341482e-10]\n",
            " [7.19195664e-01 2.80804396e-01]\n",
            " [8.49321544e-01 1.50678426e-01]\n",
            " [9.99996364e-01 3.53357450e-06]\n",
            " [9.99091744e-01 9.08204936e-04]\n",
            " [4.37962949e-01 5.62036932e-01]\n",
            " [9.99999821e-01 1.66693638e-07]\n",
            " [9.99999940e-01 2.36239064e-08]\n",
            " [9.99999940e-01 1.55912283e-09]\n",
            " [9.99947965e-01 5.19764471e-05]\n",
            " [9.99992073e-01 7.89047408e-06]\n",
            " [9.99658108e-01 3.41939740e-04]\n",
            " [9.31217849e-01 6.87822625e-02]\n",
            " [5.51336169e-01 4.48663771e-01]\n",
            " [9.82339561e-01 1.76604893e-02]\n",
            " [9.99999106e-01 8.12400401e-07]\n",
            " [6.90868914e-01 3.09131056e-01]\n",
            " [9.99999940e-01 2.29686575e-10]\n",
            " [9.99999821e-01 9.33761015e-08]\n",
            " [9.99997556e-01 2.32866068e-06]\n",
            " [9.99999940e-01 2.73118372e-09]\n",
            " [9.70436633e-01 2.95633432e-02]\n",
            " [9.99798775e-01 2.01172516e-04]\n",
            " [9.99999940e-01 1.03554155e-13]\n",
            " [9.99996126e-01 3.78563504e-06]\n",
            " [9.99999940e-01 1.76472048e-09]\n",
            " [4.37962949e-01 5.62036932e-01]\n",
            " [9.99999940e-01 5.30982369e-09]\n",
            " [9.96802390e-01 3.19749722e-03]\n",
            " [4.37962949e-01 5.62036932e-01]\n",
            " [9.99999225e-01 7.06952221e-07]\n",
            " [4.37962949e-01 5.62036932e-01]\n",
            " [9.99999940e-01 1.97513701e-14]\n",
            " [9.99999940e-01 7.78188000e-11]\n",
            " [9.97284114e-01 2.71582743e-03]\n",
            " [9.99997675e-01 2.26504130e-06]\n",
            " [4.37962949e-01 5.62036932e-01]\n",
            " [9.99946058e-01 5.38802633e-05]\n",
            " [9.99991596e-01 8.38181404e-06]\n",
            " [9.01934981e-01 9.80650261e-02]\n",
            " [9.99898612e-01 1.01333811e-04]\n",
            " [9.99527156e-01 4.72789077e-04]\n",
            " [9.99999940e-01 1.01575848e-09]\n",
            " [8.53681147e-01 1.46318749e-01]\n",
            " [9.99999940e-01 2.46054448e-08]\n",
            " [9.99988973e-01 1.09437042e-05]\n",
            " [8.19895148e-01 1.80104852e-01]\n",
            " [9.99942958e-01 5.69802978e-05]\n",
            " [9.16828632e-01 8.31713006e-02]\n",
            " [9.99999821e-01 6.15963529e-08]\n",
            " [9.99996126e-01 3.82467442e-06]\n",
            " [8.20067585e-01 1.79932460e-01]\n",
            " [9.98292685e-01 1.70724548e-03]\n",
            " [9.99999940e-01 5.36600595e-08]\n",
            " [4.37962949e-01 5.62036932e-01]\n",
            " [9.99999940e-01 4.94207661e-08]\n",
            " [9.99999821e-01 9.15038783e-08]\n",
            " [9.99998987e-01 9.14902273e-07]\n",
            " [9.99999702e-01 2.74978902e-07]\n",
            " [9.99999821e-01 8.22045934e-08]\n",
            " [9.99915540e-01 8.44266251e-05]\n",
            " [9.70345676e-01 2.96544004e-02]\n",
            " [6.15368605e-01 3.84631425e-01]\n",
            " [9.99860287e-01 1.39678697e-04]\n",
            " [9.99999940e-01 9.16783538e-09]\n",
            " [9.99982536e-01 1.74371180e-05]\n",
            " [4.37962949e-01 5.62036932e-01]\n",
            " [9.96703088e-01 3.29688797e-03]\n",
            " [9.99625385e-01 3.74604133e-04]\n",
            " [9.99999940e-01 5.86143279e-23]\n",
            " [9.99999940e-01 1.70610442e-10]\n",
            " [9.98828709e-01 1.17132312e-03]\n",
            " [9.94331896e-01 5.66813396e-03]\n",
            " [9.99998629e-01 1.29810269e-06]\n",
            " [9.99974668e-01 2.52877053e-05]\n",
            " [4.37962949e-01 5.62036932e-01]\n",
            " [4.43984509e-01 5.56015432e-01]\n",
            " [4.37962949e-01 5.62036932e-01]\n",
            " [9.99999821e-01 1.11845686e-07]\n",
            " [9.99999821e-01 9.73318208e-08]\n",
            " [9.99988735e-01 1.12500120e-05]\n",
            " [9.89677370e-01 1.03227058e-02]\n",
            " [9.97566879e-01 2.43305974e-03]\n",
            " [9.99999940e-01 2.92258568e-13]\n",
            " [9.99993503e-01 6.44047486e-06]\n",
            " [9.99999940e-01 5.76685141e-12]\n",
            " [9.99999940e-01 3.63421688e-15]\n",
            " [7.84830809e-01 2.15169147e-01]\n",
            " [4.37962949e-01 5.62036932e-01]\n",
            " [9.99988735e-01 1.12148764e-05]\n",
            " [9.72743332e-01 2.72566583e-02]\n",
            " [9.99999464e-01 4.27780634e-07]\n",
            " [9.99992073e-01 7.89047408e-06]\n",
            " [9.99578178e-01 4.21814097e-04]\n",
            " [9.99999225e-01 6.57484293e-07]\n",
            " [9.94172454e-01 5.82749629e-03]\n",
            " [9.99941409e-01 5.85263151e-05]\n",
            " [9.99751806e-01 2.48222321e-04]\n",
            " [4.37962949e-01 5.62036932e-01]\n",
            " [9.99998868e-01 1.07608923e-06]\n",
            " [9.99854803e-01 1.45185550e-04]\n",
            " [9.84924555e-01 1.50754172e-02]\n",
            " [9.99999344e-01 6.53978020e-07]\n",
            " [9.99999821e-01 1.74687599e-07]\n",
            " [9.99999821e-01 7.62122241e-08]\n",
            " [9.99717474e-01 2.82578840e-04]\n",
            " [9.99999940e-01 4.66281378e-08]\n",
            " [9.99980032e-01 1.99219303e-05]\n",
            " [9.99999464e-01 5.00122894e-07]\n",
            " [9.99999940e-01 1.65786473e-09]\n",
            " [4.48181540e-01 5.51818430e-01]\n",
            " [9.99999821e-01 1.17794983e-07]\n",
            " [9.99879301e-01 1.20681398e-04]\n",
            " [4.37962949e-01 5.62036932e-01]\n",
            " [9.99999940e-01 1.58662328e-09]\n",
            " [9.99831676e-01 1.68239159e-04]\n",
            " [9.99998748e-01 1.18418927e-06]\n",
            " [9.99962747e-01 3.72395843e-05]\n",
            " [4.37962949e-01 5.62036932e-01]\n",
            " [9.13343668e-01 8.66563693e-02]\n",
            " [9.99999940e-01 1.15718069e-11]\n",
            " [9.99998868e-01 1.03267234e-06]\n",
            " [9.99729156e-01 2.70910969e-04]\n",
            " [9.99998629e-01 1.32583932e-06]\n",
            " [9.99716520e-01 2.83516332e-04]\n",
            " [9.99999940e-01 5.83478750e-26]\n",
            " [9.99737501e-01 2.62593123e-04]\n",
            " [5.04595339e-01 4.95404661e-01]\n",
            " [6.09659135e-01 3.90340954e-01]\n",
            " [9.99999940e-01 1.28401387e-10]\n",
            " [9.99999702e-01 2.31343094e-07]\n",
            " [8.13099325e-01 1.86900750e-01]\n",
            " [9.94270384e-01 5.72957285e-03]\n",
            " [9.99999940e-01 1.56838149e-12]\n",
            " [9.99801159e-01 1.98848589e-04]\n",
            " [4.58786309e-01 5.41213632e-01]\n",
            " [9.99796152e-01 2.03881369e-04]\n",
            " [9.98422146e-01 1.57776685e-03]\n",
            " [9.99999940e-01 7.03019728e-14]\n",
            " [9.99999940e-01 1.41944789e-10]\n",
            " [9.99998510e-01 1.42994327e-06]\n",
            " [7.33452618e-01 2.66547292e-01]\n",
            " [4.37962949e-01 5.62036932e-01]\n",
            " [9.99999940e-01 3.88836142e-12]\n",
            " [9.99825954e-01 1.74082117e-04]\n",
            " [9.99998748e-01 1.17817285e-06]\n",
            " [9.99891937e-01 1.07947184e-04]\n",
            " [9.99996006e-01 3.92818720e-06]\n",
            " [9.99548614e-01 4.51362459e-04]\n",
            " [9.98423576e-01 1.57637335e-03]\n",
            " [9.99996483e-01 3.40711995e-06]\n",
            " [9.99999940e-01 2.36284672e-11]\n",
            " [9.99999940e-01 3.79482600e-12]\n",
            " [9.99536455e-01 4.63502918e-04]\n",
            " [9.94894385e-01 5.10554016e-03]\n",
            " [9.99999940e-01 1.06426012e-09]\n",
            " [9.98557985e-01 1.44202600e-03]\n",
            " [8.85083139e-01 1.14916839e-01]\n",
            " [9.99999940e-01 1.49928869e-08]\n",
            " [9.99999940e-01 5.78580739e-10]\n",
            " [9.99999702e-01 2.78138543e-07]\n",
            " [9.99999940e-01 1.05095559e-11]\n",
            " [4.37962949e-01 5.62036932e-01]\n",
            " [9.99999821e-01 6.61220696e-08]\n",
            " [7.21053481e-01 2.78946489e-01]\n",
            " [9.97299850e-01 2.70019914e-03]\n",
            " [9.99999940e-01 9.82177895e-09]\n",
            " [4.37962949e-01 5.62036932e-01]\n",
            " [9.99999940e-01 4.35639542e-08]\n",
            " [9.99999940e-01 1.14373142e-08]\n",
            " [4.37962949e-01 5.62036932e-01]\n",
            " [9.99548972e-01 4.50978201e-04]\n",
            " [4.82819617e-01 5.17180324e-01]\n",
            " [9.99999821e-01 1.32187211e-07]\n",
            " [9.99999940e-01 9.61815072e-09]\n",
            " [9.99999821e-01 1.14606515e-07]\n",
            " [9.99999940e-01 1.82212845e-09]\n",
            " [9.85839009e-01 1.41609376e-02]\n",
            " [9.58098233e-01 4.19017412e-02]\n",
            " [4.37962949e-01 5.62036932e-01]\n",
            " [4.53779221e-01 5.46220839e-01]\n",
            " [7.25158930e-01 2.74841040e-01]\n",
            " [6.49396420e-01 3.50603551e-01]\n",
            " [5.08978009e-01 4.91022050e-01]\n",
            " [9.69498813e-01 3.05011496e-02]\n",
            " [9.99815226e-01 1.84770121e-04]\n",
            " [9.99981344e-01 1.85438930e-05]\n",
            " [9.99999940e-01 2.92851632e-10]\n",
            " [9.99993384e-01 6.52151493e-06]\n",
            " [9.99999702e-01 2.50265145e-07]\n",
            " [7.51492143e-01 2.48507828e-01]\n",
            " [9.99583066e-01 4.16904804e-04]\n",
            " [9.99999940e-01 3.89311692e-24]\n",
            " [9.99998748e-01 1.24457642e-06]\n",
            " [4.37962949e-01 5.62036932e-01]\n",
            " [9.84829485e-01 1.51705155e-02]\n",
            " [9.99999464e-01 4.52556492e-07]\n",
            " [9.99946058e-01 5.38802633e-05]\n",
            " [9.99999702e-01 2.86590733e-07]\n",
            " [9.99999940e-01 1.89452918e-13]\n",
            " [4.37962949e-01 5.62036932e-01]\n",
            " [9.99976456e-01 2.34967574e-05]\n",
            " [4.37962949e-01 5.62036932e-01]\n",
            " [9.99999940e-01 1.65102944e-13]\n",
            " [5.77450156e-01 4.22549903e-01]\n",
            " [9.99999106e-01 8.74347393e-07]\n",
            " [9.99999940e-01 4.87154850e-08]\n",
            " [6.43357038e-01 3.56643081e-01]\n",
            " [9.99789238e-01 2.10892540e-04]\n",
            " [9.99194920e-01 8.05043848e-04]\n",
            " [9.99992549e-01 7.44546787e-06]\n",
            " [9.99999940e-01 2.57046096e-09]\n",
            " [9.99999464e-01 4.75429459e-07]\n",
            " [9.31080878e-01 6.89192414e-02]\n",
            " [9.99940217e-01 5.96896789e-05]\n",
            " [9.99999940e-01 7.74737663e-10]\n",
            " [4.37962949e-01 5.62036932e-01]\n",
            " [4.37962949e-01 5.62036932e-01]\n",
            " [9.99999940e-01 2.68222007e-11]\n",
            " [4.37962949e-01 5.62036932e-01]\n",
            " [9.99999940e-01 2.99171868e-11]\n",
            " [9.99222457e-01 7.77612498e-04]\n",
            " [9.99999464e-01 4.32556220e-07]\n",
            " [4.37962949e-01 5.62036932e-01]\n",
            " [4.37962949e-01 5.62036932e-01]\n",
            " [9.99996960e-01 2.94832012e-06]\n",
            " [9.99769688e-01 2.30348538e-04]\n",
            " [9.98911560e-01 1.08834589e-03]\n",
            " [9.98471200e-01 1.52882375e-03]\n",
            " [8.65264952e-01 1.34735063e-01]\n",
            " [9.99999940e-01 2.13131224e-09]\n",
            " [4.37962979e-01 5.62036991e-01]\n",
            " [1.00000000e+00 1.69387580e-08]\n",
            " [9.99999881e-01 1.28661810e-07]\n",
            " [9.99999881e-01 1.75230895e-07]]\n"
          ]
        }
      ]
    },
    {
      "cell_type": "code",
      "source": [
        "from sklearn.metrics import accuracy_score\n",
        "print(\"Model accuracy score is \", accuracy_score(Y_test, Y_hat_test))"
      ],
      "metadata": {
        "colab": {
          "base_uri": "https://localhost:8080/"
        },
        "id": "Lkg7XGNW4q4W",
        "outputId": "4d4871e6-2c32-4fa7-ea8c-547f9e3a57ce"
      },
      "execution_count": 18,
      "outputs": [
        {
          "output_type": "stream",
          "name": "stdout",
          "text": [
            "Model accuracy score is  0.9139344262295082\n"
          ]
        }
      ]
    },
    {
      "cell_type": "code",
      "source": [
        "plt.plot(history.history['accuracy'])\n",
        "plt.plot(history.history['val_accuracy'])\n",
        "plt.title('model accuracy')\n",
        "plt.ylabel('accuracy')\n",
        "plt.xlabel('epoch')\n",
        "plt.legend(['train', 'test'], loc='upper left')\n",
        "plt.show()\n",
        "\n",
        "plt.plot(history.history['loss'])\n",
        "plt.plot(history.history['val_loss'])\n",
        "plt.title('model loss')\n",
        "plt.ylabel('loss')\n",
        "plt.xlabel('epoch')\n",
        "plt.legend(['train', 'test'], loc='upper left')\n",
        "plt.show()"
      ],
      "metadata": {
        "colab": {
          "base_uri": "https://localhost:8080/",
          "height": 927
        },
        "id": "Jx1fNRWm4tv_",
        "outputId": "5bd385b2-806e-4d87-9359-899fcc876944"
      },
      "execution_count": 19,
      "outputs": [
        {
          "output_type": "display_data",
          "data": {
            "text/plain": [
              "<Figure size 640x480 with 1 Axes>"
            ],
            "image/png": "[encoded data removed]"
          },
          "metadata": {}
        },
        {
          "output_type": "display_data",
          "data": {
            "text/plain": [
              "<Figure size 640x480 with 1 Axes>"
            ],
            "image/png": "[encoded data removed]"
          },
          "metadata": {}
        }
      ]
    }
  ]
}